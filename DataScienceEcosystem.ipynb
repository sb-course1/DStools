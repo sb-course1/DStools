{
 "cells": [
  {
   "cell_type": "markdown",
   "id": "d0f2b3c1-fae9-4e99-af91-8a97e2cdf4c6",
   "metadata": {},
   "source": [
    "# Data Science Tools and Ecosystem"
   ]
  },
  {
   "cell_type": "markdown",
   "id": "868b2509-713b-40da-bc34-da578cb5b317",
   "metadata": {},
   "source": [
    "## Author\n",
    "Stephan Betzler"
   ]
  },
  {
   "cell_type": "markdown",
   "id": "ccd31427-ff64-4564-89ed-d49e445d66ec",
   "metadata": {},
   "source": [
    "In this notebook, Data Science Tools and Ecosystem are summarized."
   ]
  },
  {
   "cell_type": "markdown",
   "id": "99992f1c-e020-4376-b2aa-5959ca1df4fa",
   "metadata": {},
   "source": [
    "**Objectives:**\n",
    "\n",
    "- List popular languages for Data Science\n",
    "- List some commonly used Data Science libraries\n",
    "- List some open source development environment tools used in Data Science\n",
    "- Demonstrate a few simple examples of arithmetic expressions in Python"
   ]
  },
  {
   "cell_type": "markdown",
   "id": "d002d6c9-44eb-4a10-a53d-ca6c9b9e7b48",
   "metadata": {},
   "source": [
    "Some of the popular languages that Data Scientists use are:\n",
    "\n",
    "1. Python\n",
    "2. R\n",
    "3. Julia\n",
    "4. SQL"
   ]
  },
  {
   "cell_type": "markdown",
   "id": "b3ebeabe-d3b4-4a38-939d-de5ce3439f1b",
   "metadata": {},
   "source": [
    "Some of the commonly used libraries used by Data Scientists include:\n",
    "\n",
    "1. Pandas\n",
    "2. NumPy\n",
    "3. Matplotlib\n",
    "4. Scikit-learn\n",
    "5. PyTorch\n",
    "6. TensorFlow"
   ]
  },
  {
   "cell_type": "markdown",
   "id": "c12386e7-667c-4ec0-8693-e23f84c4d86c",
   "metadata": {},
   "source": [
    "| Data Science Tools    |\n",
    "| -------- |\n",
    "| Jupyter Notebook / JupyterLab |\n",
    "| VS Code |\n",
    "| RStudio |\n",
    "\n"
   ]
  },
  {
   "cell_type": "markdown",
   "id": "ca850b36-9e0a-486a-a1f1-663e75583d6c",
   "metadata": {},
   "source": [
    "### Below are a few examples of evaluating arithmetic expressions in Python"
   ]
  },
  {
   "cell_type": "code",
   "execution_count": 3,
   "id": "f6afef7e-0df9-4579-bb5b-cd3f571d28f5",
   "metadata": {},
   "outputs": [
    {
     "data": {
      "text/plain": [
       "17"
      ]
     },
     "execution_count": 3,
     "metadata": {},
     "output_type": "execute_result"
    }
   ],
   "source": [
    "# This a simple arithmetic expression to multiply then add integers\n",
    "(3*4)+5"
   ]
  },
  {
   "cell_type": "code",
   "execution_count": 4,
   "id": "ef9baba0-eaab-419f-817b-15795a2207f6",
   "metadata": {},
   "outputs": [
    {
     "data": {
      "text/plain": [
       "3.3333333333333335"
      ]
     },
     "execution_count": 4,
     "metadata": {},
     "output_type": "execute_result"
    }
   ],
   "source": [
    "# This will convert 200 minutes to hours by diving by 60\n",
    "200 / 60"
   ]
  }
 ],
 "metadata": {
  "kernelspec": {
   "display_name": "Python 3 (ipykernel)",
   "language": "python",
   "name": "python3"
  },
  "language_info": {
   "codemirror_mode": {
    "name": "ipython",
    "version": 3
   },
   "file_extension": ".py",
   "mimetype": "text/x-python",
   "name": "python",
   "nbconvert_exporter": "python",
   "pygments_lexer": "ipython3",
   "version": "3.11.9"
  }
 },
 "nbformat": 4,
 "nbformat_minor": 5
}
